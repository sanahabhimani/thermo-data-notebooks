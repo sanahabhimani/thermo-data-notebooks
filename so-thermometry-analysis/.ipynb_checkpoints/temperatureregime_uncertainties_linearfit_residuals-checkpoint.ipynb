{
 "cells": [
  {
   "cell_type": "code",
   "execution_count": 1,
   "metadata": {},
   "outputs": [],
   "source": [
    "import matplotlib\n",
    "matplotlib.use('Agg')\n",
    "import matplotlib.pylab as plt\n",
    "\n",
    "import math\n",
    "import sys\n",
    "import os\n",
    "import yaml\n",
    "import numpy as np\n",
    "\n",
    "import so3g\n",
    "from so3g.hk.getdata import HKArchiveScanner"
   ]
  },
  {
   "cell_type": "code",
   "execution_count": 2,
   "metadata": {},
   "outputs": [
    {
     "name": "stdout",
     "output_type": "stream",
     "text": [
      "/home/sab267/git/so-rox-calibration/bin\n"
     ]
    }
   ],
   "source": [
    "cd ../git/so-rox-calibration/bin/"
   ]
  },
  {
   "cell_type": "code",
   "execution_count": 3,
   "metadata": {},
   "outputs": [],
   "source": [
    "from roxcal.data import trim_data, \\\n",
    "                        cluster_time_and_data_arrays, \\\n",
    "                        extract_temperature_data, \\\n",
    "                        extract_temperature_verification_data\n",
    "\n",
    "from roxcal.cal import Calibration\n",
    "from uncertainties_ver_runs import get_sensor_data"
   ]
  },
  {
   "cell_type": "code",
   "execution_count": 4,
   "metadata": {},
   "outputs": [],
   "source": [
    "temperatures = [0.2, 0.195, 0.19, 0.185, 0.18,\n",
    "                0.175, 0.17, 0.165, 0.16, 0.155, 0.15, 0.145, 0.14, 0.135,\n",
    "                0.13, 0.125, 0.12, 0.115, 0.11, 0.105, 0.1, 0.095, 0.09,\n",
    "                0.085, 0.08, 0.075, 0.07, 0.065, 0.06, 0.055]"
   ]
  },
  {
   "cell_type": "code",
   "execution_count": 5,
   "metadata": {},
   "outputs": [],
   "source": [
    "temperatures2 = [0.220, 0.2, 0.195, 0.19, 0.185, 0.18,\n",
    "                0.175, 0.17, 0.165, 0.16, 0.155, 0.15, 0.145, 0.14, 0.135,\n",
    "                0.13, 0.125, 0.12, 0.115, 0.11, 0.105, 0.1, 0.095, 0.09,\n",
    "                0.085, 0.08, 0.075, 0.07, 0.065, 0.06]"
   ]
  },
  {
   "cell_type": "code",
   "execution_count": 6,
   "metadata": {},
   "outputs": [],
   "source": [
    "with open('verification_runs_files.yaml', 'r') as f:\n",
    "    all_verify_runs = yaml.safe_load(f)"
   ]
  },
  {
   "cell_type": "code",
   "execution_count": 7,
   "metadata": {},
   "outputs": [],
   "source": [
    "all_verify_data = []\n",
    "for file in all_verify_runs['files']:\n",
    "    #print(file)\n",
    "    data = get_sensor_data(file)\n",
    "    #print(data)\n",
    "    all_verify_data.append(data)"
   ]
  },
  {
   "cell_type": "code",
   "execution_count": 8,
   "metadata": {
    "scrolled": false
   },
   "outputs": [
    {
     "data": {
      "text/plain": [
       "5"
      ]
     },
     "execution_count": 8,
     "metadata": {},
     "output_type": "execute_result"
    }
   ],
   "source": [
    "len(all_verify_data)"
   ]
  },
  {
   "cell_type": "code",
   "execution_count": 9,
   "metadata": {},
   "outputs": [],
   "source": [
    "lsroxtemps = all_verify_data[0]['CAL']['temp_avg']"
   ]
  },
  {
   "cell_type": "code",
   "execution_count": 10,
   "metadata": {},
   "outputs": [],
   "source": [
    "x031temps = all_verify_data[0]['X-031']['temp_avg']"
   ]
  },
  {
   "cell_type": "code",
   "execution_count": 11,
   "metadata": {},
   "outputs": [
    {
     "name": "stderr",
     "output_type": "stream",
     "text": [
      "/home/sab267/.local/lib/python3.6/site-packages/ipykernel_launcher.py:29: VisibleDeprecationWarning: Creating an ndarray from ragged nested sequences (which is a list-or-tuple of lists-or-tuples-or ndarrays with different lengths or shapes) is deprecated. If you meant to do this, you must specify 'dtype=object' when creating the ndarray\n"
     ]
    }
   ],
   "source": [
    "x031 = all_verify_data[0]['X-031']['temp_avg']\n",
    "x032 = all_verify_data[0]['X-032']['temp_avg']\n",
    "x102 = all_verify_data[0]['X-102']['temp_avg']\n",
    "x001 = all_verify_data[0]['X-001']['temp_avg']\n",
    "x111 = all_verify_data[0]['X-111']['temp_avg']\n",
    "x083 = all_verify_data[1]['X-083']['temp_avg']\n",
    "x075 = all_verify_data[1]['X-075']['temp_avg']\n",
    "x035 = all_verify_data[1]['X-035']['temp_avg']\n",
    "x076 = all_verify_data[1]['X-076']['temp_avg']\n",
    "x029 = all_verify_data[1]['X-029']['temp_avg']\n",
    "x090 = all_verify_data[1]['X-090']['temp_avg']\n",
    "x039 = all_verify_data[1]['X-039']['temp_avg']\n",
    "x050 = all_verify_data[2]['X-050']['temp_avg']\n",
    "x021 = all_verify_data[2]['X-021']['temp_avg']\n",
    "x038 = all_verify_data[2]['X-038']['temp_avg']\n",
    "x092 = all_verify_data[2]['X-092']['temp_avg']\n",
    "x026 = all_verify_data[2]['X-026']['temp_avg']\n",
    "#x001\n",
    "x057 = all_verify_data[3]['X-057']['temp_avg']\n",
    "x044 = all_verify_data[3]['X-044']['temp_avg']\n",
    "x113 = all_verify_data[3]['X-113']['temp_avg']\n",
    "x097 = all_verify_data[3]['X-097']['temp_avg']\n",
    "#x001\n",
    "x068 = all_verify_data[4]['X-068']['temp_avg'] \n",
    "x071 = all_verify_data[4]['X-071']['temp_avg']\n",
    "x079 = all_verify_data[4]['X-079']['temp_avg']\n",
    "x064 = all_verify_data[4]['X-064']['temp_avg']\n",
    "\n",
    "roxes = np.array([x031, x032, x102, x001, x111, x083, x075, x035, x076, x029, x090, x039, x050, x021, x038, x092, x026, x057, x044, x113, x097, x068, x071, x079, x064])\n",
    "\n",
    "#for i in all_verify_data[4]:\n",
    " #   print(i)\n",
    "     #= all_verify_data[0][i]['temp_avg']"
   ]
  },
  {
   "cell_type": "code",
   "execution_count": 12,
   "metadata": {},
   "outputs": [],
   "source": [
    "roxes = np.concatenate((x031, x032, x102, x111))"
   ]
  },
  {
   "cell_type": "code",
   "execution_count": 13,
   "metadata": {},
   "outputs": [],
   "source": [
    "roxes = np.sort(roxes)"
   ]
  },
  {
   "cell_type": "code",
   "execution_count": 14,
   "metadata": {},
   "outputs": [],
   "source": [
    "%matplotlib inline\n",
    "matplotlib.rcParams['figure.figsize']=[10, 8]"
   ]
  },
  {
   "cell_type": "markdown",
   "metadata": {},
   "source": [
    "## Drawing a one-to-one line as a visual but not useful for analysis"
   ]
  },
  {
   "cell_type": "code",
   "execution_count": 15,
   "metadata": {},
   "outputs": [
    {
     "data": {
      "text/plain": [
       "'\\nx = np.arange(0,10)\\nplt.plot(lsroxtemps, x031, \\'.\\', label = \\'X031\\')\\nplt.plot(lsroxtemps, x032, \\'.\\', label = \\'X032\\')\\nplt.plot(lsroxtemps, x102, \\'.\\', label = \\'X102\\')\\n#plt.plot(lsroxtemps, x001, \\'.\\', label = \\'X001\\')\\nplt.plot(lsroxtemps, x111, \\'.\\', label = \\'X111\\')\\nplt.plot(lsroxtemps, x083[0:30], \\'.\\', label = \\'X083\\')\\nplt.plot(lsroxtemps, x075[0:30], \\'.\\', label = \\'X075\\')\\nplt.plot(lsroxtemps, x035[0:30], \\'.\\', label = \\'X035\\')\\nplt.plot(lsroxtemps, x076[0:30], \\'.\\', label = \\'X076\\')\\nplt.plot(lsroxtemps, x029[0:30], \\'.\\', label = \\'X029\\')\\nplt.plot(lsroxtemps, x090[0:30], \\'.\\', label = \\'X090\\')\\nplt.plot(lsroxtemps, x039[0:30], \\'.\\', label = \\'X039\\')\\nplt.plot(lsroxtemps, x050[0:30], \\'.\\', label = \\'X050\\')\\nplt.plot(lsroxtemps, x021[0:30], \\'.\\', label = \\'X021\\')\\nplt.plot(lsroxtemps, x038[0:30], \\'.\\', label = \\'X038\\')\\nplt.plot(lsroxtemps, x092[0:30], \\'.\\', label = \\'X092\\')\\nplt.plot(lsroxtemps, x026[0:30], \\'.\\', label = \\'X026\\')\\nplt.plot(lsroxtemps, x057, \\'.\\', label = \\'X057\\')\\nplt.plot(lsroxtemps, x044, \\'.\\', label = \\'X044\\')\\nplt.plot(lsroxtemps, x113, \\'.\\', label = \\'X113\\')\\nplt.plot(lsroxtemps, x097, \\'.\\', label = \\'X097\\')\\nplt.plot(lsroxtemps, x068[1:], \\'.\\', label = \\'X068\\')\\nplt.plot(lsroxtemps, x071[1:], \\'.\\', label = \\'X071\\')\\nplt.plot(lsroxtemps, x079[1:], \\'.\\', label = \\'X079\\')\\nplt.plot(lsroxtemps, x064[1:], \\'.\\', label = \\'X064\\')\\nplt.plot(x)\\nplt.legend()\\nplt.ylim(0.04,0.2)\\nplt.xlim(0.04,0.2) #not the linear fit; just a raw one to one line\\nplt.xlabel(\"LSCALROX Temperatures [K]\", fontsize = 14)\\nplt.ylabel(\"SO ROXes\\' Temperatures [K]\", fontsize = 14)\\nplt.title(\"Verification Temperature Run\", fontsize = 14)\\n'"
      ]
     },
     "execution_count": 15,
     "metadata": {},
     "output_type": "execute_result"
    }
   ],
   "source": [
    "\"\"\"\n",
    "x = np.arange(0,10)\n",
    "plt.plot(lsroxtemps, x031, '.', label = 'X031')\n",
    "plt.plot(lsroxtemps, x032, '.', label = 'X032')\n",
    "plt.plot(lsroxtemps, x102, '.', label = 'X102')\n",
    "#plt.plot(lsroxtemps, x001, '.', label = 'X001')\n",
    "plt.plot(lsroxtemps, x111, '.', label = 'X111')\n",
    "plt.plot(lsroxtemps, x083[0:30], '.', label = 'X083')\n",
    "plt.plot(lsroxtemps, x075[0:30], '.', label = 'X075')\n",
    "plt.plot(lsroxtemps, x035[0:30], '.', label = 'X035')\n",
    "plt.plot(lsroxtemps, x076[0:30], '.', label = 'X076')\n",
    "plt.plot(lsroxtemps, x029[0:30], '.', label = 'X029')\n",
    "plt.plot(lsroxtemps, x090[0:30], '.', label = 'X090')\n",
    "plt.plot(lsroxtemps, x039[0:30], '.', label = 'X039')\n",
    "plt.plot(lsroxtemps, x050[0:30], '.', label = 'X050')\n",
    "plt.plot(lsroxtemps, x021[0:30], '.', label = 'X021')\n",
    "plt.plot(lsroxtemps, x038[0:30], '.', label = 'X038')\n",
    "plt.plot(lsroxtemps, x092[0:30], '.', label = 'X092')\n",
    "plt.plot(lsroxtemps, x026[0:30], '.', label = 'X026')\n",
    "plt.plot(lsroxtemps, x057, '.', label = 'X057')\n",
    "plt.plot(lsroxtemps, x044, '.', label = 'X044')\n",
    "plt.plot(lsroxtemps, x113, '.', label = 'X113')\n",
    "plt.plot(lsroxtemps, x097, '.', label = 'X097')\n",
    "plt.plot(lsroxtemps, x068[1:], '.', label = 'X068')\n",
    "plt.plot(lsroxtemps, x071[1:], '.', label = 'X071')\n",
    "plt.plot(lsroxtemps, x079[1:], '.', label = 'X079')\n",
    "plt.plot(lsroxtemps, x064[1:], '.', label = 'X064')\n",
    "plt.plot(x)\n",
    "plt.legend()\n",
    "plt.ylim(0.04,0.2)\n",
    "plt.xlim(0.04,0.2) #not the linear fit; just a raw one to one line\n",
    "plt.xlabel(\"LSCALROX Temperatures [K]\", fontsize = 14)\n",
    "plt.ylabel(\"SO ROXes' Temperatures [K]\", fontsize = 14)\n",
    "plt.title(\"Verification Temperature Run\", fontsize = 14)\n",
    "\"\"\""
   ]
  },
  {
   "cell_type": "markdown",
   "metadata": {},
   "source": [
    "#### Trying this argsort thing for a few roxes"
   ]
  },
  {
   "cell_type": "markdown",
   "metadata": {},
   "source": [
    "## Didn't include x001 in systematics of roxes from verification runs"
   ]
  },
  {
   "cell_type": "code",
   "execution_count": 16,
   "metadata": {},
   "outputs": [
    {
     "data": {
      "text/plain": [
       "600"
      ]
     },
     "execution_count": 16,
     "metadata": {},
     "output_type": "execute_result"
    }
   ],
   "source": [
    "#NOTE: didn't include x001\n",
    "roxes_trial = np.concatenate((x031, x032, x102, x111, x083[0:30], \\\n",
    "                              x075[0:30], x035[0:30], x076[0:30], x029[0:30], \\\n",
    "                              x090[0:30], x039[0:30], x050[0:30], x021[0:30], \\\n",
    "                              x038[0:30], x092[0:30], x026[0:30], x068[1:], x071[1:], \\\n",
    "                              x079[1:], x064[1:]))\n",
    "#x057, \\x044, x113, x097\n",
    "len(roxes_trial)"
   ]
  },
  {
   "cell_type": "code",
   "execution_count": 17,
   "metadata": {},
   "outputs": [
    {
     "data": {
      "text/plain": [
       "0.05403129347826086"
      ]
     },
     "execution_count": 17,
     "metadata": {},
     "output_type": "execute_result"
    }
   ],
   "source": [
    "np.min(roxes_trial)"
   ]
  },
  {
   "cell_type": "code",
   "execution_count": 18,
   "metadata": {},
   "outputs": [
    {
     "data": {
      "text/plain": [
       "0.052556460869565225"
      ]
     },
     "execution_count": 18,
     "metadata": {},
     "output_type": "execute_result"
    }
   ],
   "source": [
    "np.min(x097) ##NOTE: MIGHT HAVE TO DO ANOTHER SET OF RESIDUALS BEGINNING WITH 60MK INSTEAD OF 55"
   ]
  },
  {
   "cell_type": "code",
   "execution_count": 19,
   "metadata": {},
   "outputs": [
    {
     "data": {
      "text/plain": [
       "600"
      ]
     },
     "execution_count": 19,
     "metadata": {},
     "output_type": "execute_result"
    }
   ],
   "source": [
    "new_set = roxes_trial.argsort()\n",
    "len(new_set)"
   ]
  },
  {
   "cell_type": "code",
   "execution_count": 20,
   "metadata": {},
   "outputs": [],
   "source": [
    "lsrox_trial = np.concatenate((lsroxtemps,lsroxtemps, lsroxtemps, \\\n",
    "                              lsroxtemps, lsroxtemps, lsroxtemps, \\\n",
    "                              lsroxtemps, lsroxtemps, lsroxtemps, \\\n",
    "                              lsroxtemps, lsroxtemps, lsroxtemps, \\\n",
    "                              lsroxtemps, lsroxtemps, lsroxtemps, \\\n",
    "                              lsroxtemps, lsroxtemps, lsroxtemps, \\\n",
    "                              lsroxtemps, lsroxtemps))\n",
    "                              #lsroxtemps))\n",
    "                              \n",
    "                              \n",
    "                              #lsroxtemps, lsroxtemps, \\\n",
    "                              #lsroxtemps))"
   ]
  },
  {
   "cell_type": "code",
   "execution_count": 21,
   "metadata": {},
   "outputs": [
    {
     "data": {
      "text/plain": [
       "600"
      ]
     },
     "execution_count": 21,
     "metadata": {},
     "output_type": "execute_result"
    }
   ],
   "source": [
    "## concatenate lsroxtemps just as many times\n",
    "len(lsrox_trial)"
   ]
  },
  {
   "cell_type": "code",
   "execution_count": 22,
   "metadata": {},
   "outputs": [],
   "source": [
    "lsrox_trial2 = lsrox_trial[np.argsort(roxes_trial)]"
   ]
  },
  {
   "cell_type": "code",
   "execution_count": 23,
   "metadata": {},
   "outputs": [],
   "source": [
    "roxestrial_2 = roxes_trial[np.argsort(roxes_trial)]"
   ]
  },
  {
   "cell_type": "code",
   "execution_count": 24,
   "metadata": {},
   "outputs": [
    {
     "data": {
      "text/plain": [
       "<matplotlib.legend.Legend at 0x7f50278cf828>"
      ]
     },
     "execution_count": 24,
     "metadata": {},
     "output_type": "execute_result"
    },
    {
     "data": {
      "image/png": "[encoded data removed]",
      "text/plain": [
       "<Figure size 720x576 with 1 Axes>"
      ]
     },
     "metadata": {
      "needs_background": "light"
     },
     "output_type": "display_data"
    }
   ],
   "source": [
    "x = np.arange(0,10)\n",
    "plt.plot(lsrox_trial2, roxestrial_2, '.')\n",
    "plt.plot(x, label = 'one-to-one line')\n",
    "plt.ylim(0.04,0.205)\n",
    "plt.xlim(0.04,0.205) #not the linear fit; just a raw one to one line\n",
    "plt.xlabel(\"LSCALROX Temperatures [K]\", fontsize = 14)\n",
    "plt.ylabel(\"SO ROXes' Temperatures [K]\", fontsize = 14)\n",
    "plt.title(\"Verification Temperature Run\", fontsize = 14)\n",
    "plt.legend()"
   ]
  },
  {
   "cell_type": "markdown",
   "metadata": {},
   "source": [
    "## Linear Fit"
   ]
  },
  {
   "cell_type": "code",
   "execution_count": 25,
   "metadata": {},
   "outputs": [],
   "source": [
    "linfit = np.polyfit(lsrox_trial2, roxestrial_2, 1)"
   ]
  },
  {
   "cell_type": "code",
   "execution_count": 26,
   "metadata": {},
   "outputs": [
    {
     "name": "stdout",
     "output_type": "stream",
     "text": [
      "[9.97225594e-01 4.86122517e-04]\n"
     ]
    }
   ],
   "source": [
    "print(linfit)"
   ]
  },
  {
   "cell_type": "code",
   "execution_count": 27,
   "metadata": {},
   "outputs": [
    {
     "data": {
      "text/plain": [
       "600"
      ]
     },
     "execution_count": 27,
     "metadata": {},
     "output_type": "execute_result"
    }
   ],
   "source": [
    "#xp = np.linspace(0,0.2,100) #750?\n",
    "p = np.poly1d(linfit)\n",
    "p_eval = p(np.linspace(np.min(lsrox_trial2), np.max(lsrox_trial2), len(lsrox_trial2)))#p(np.linspace(0.055, 0.2, len(lsrox_trial2)))\n",
    "len(p_eval)"
   ]
  },
  {
   "cell_type": "code",
   "execution_count": 28,
   "metadata": {},
   "outputs": [
    {
     "name": "stdout",
     "output_type": "stream",
     "text": [
      "0.05502889111111111\n",
      "0.05403129347826086\n"
     ]
    }
   ],
   "source": [
    "print(np.min(lsrox_trial2))\n",
    "print(np.min(roxestrial_2))"
   ]
  },
  {
   "cell_type": "code",
   "execution_count": 29,
   "metadata": {},
   "outputs": [
    {
     "data": {
      "text/plain": [
       "poly1d([9.97225594e-01, 4.86122517e-04])"
      ]
     },
     "execution_count": 29,
     "metadata": {},
     "output_type": "execute_result"
    }
   ],
   "source": [
    "p"
   ]
  },
  {
   "cell_type": "code",
   "execution_count": 30,
   "metadata": {},
   "outputs": [
    {
     "data": {
      "text/plain": [
       "Text(0.5, 1.0, 'Verification Temperature Run')"
      ]
     },
     "execution_count": 30,
     "metadata": {},
     "output_type": "execute_result"
    },
    {
     "data": {
      "image/png": "[encoded data removed]",
      "text/plain": [
       "<Figure size 720x576 with 1 Axes>"
      ]
     },
     "metadata": {
      "needs_background": "light"
     },
     "output_type": "display_data"
    }
   ],
   "source": [
    "plt.plot(np.linspace(np.min(lsrox_trial2), np.max(lsrox_trial2), len(lsrox_trial2)), p_eval, color = 'r', label = 'Linear Fit')\n",
    "plt.plot(lsrox_trial2, roxestrial_2, '.')\n",
    "#plt.plot(x, 'g--', label = 'one-to-one line')\n",
    "plt.ylim(0.04,0.205)\n",
    "plt.xlim(0.04,0.205) \n",
    "plt.legend(fontsize = 14)\n",
    "plt.xlabel(\"LSCALROX Temperatures [K]\", fontsize = 14)\n",
    "plt.ylabel(\"SO ROXes' Temperatures [K]\", fontsize = 14)\n",
    "plt.title(\"Verification Temperature Run\", fontsize = 14)"
   ]
  },
  {
   "cell_type": "code",
   "execution_count": 31,
   "metadata": {},
   "outputs": [
    {
     "data": {
      "text/plain": [
       "array([0.05403129, 0.05487357, 0.05511534, 0.05515814, 0.05523142,\n",
       "       0.05524996, 0.05529935, 0.0553045 , 0.05530974, 0.05531877])"
      ]
     },
     "execution_count": 31,
     "metadata": {},
     "output_type": "execute_result"
    }
   ],
   "source": [
    "roxestrial_2[0:10]"
   ]
  },
  {
   "cell_type": "code",
   "execution_count": 32,
   "metadata": {},
   "outputs": [
    {
     "name": "stdout",
     "output_type": "stream",
     "text": [
      "[0.19999402 0.19999402 0.19999402 0.19999402 0.19999402 0.19999402\n",
      " 0.19999402 0.19999402 0.19999402 0.19999402 0.19999402 0.19999402\n",
      " 0.19999402 0.19999402 0.19999402 0.19999402 0.19999402 0.19999402\n",
      " 0.19999402]\n",
      "[0.19558115 0.19582249 0.19606383 0.19630517 0.19654652 0.19678786\n",
      " 0.1970292  0.19727054 0.19751188 0.19775322 0.19799456 0.1982359\n",
      " 0.19847724 0.19871858 0.19895992 0.19920126 0.1994426  0.19968394\n",
      " 0.19992528]\n",
      "[0.19998858 0.20001371 0.2000153  0.20001844 0.20002251 0.20002316\n",
      " 0.2000292  0.20003504 0.20004404 0.20004783 0.20007478 0.20009561\n",
      " 0.2001113  0.20011202 0.20012628 0.20013298 0.20014372 0.20014542\n",
      " 0.20022935]\n"
     ]
    }
   ],
   "source": [
    "print(lsrox_trial2[581:600])\n",
    "print(p_eval[581:600])\n",
    "print(roxestrial_2[581:600])"
   ]
  },
  {
   "cell_type": "markdown",
   "metadata": {},
   "source": [
    "## How do these std's compare with the ones from temperature steps"
   ]
  },
  {
   "cell_type": "code",
   "execution_count": 33,
   "metadata": {},
   "outputs": [
    {
     "name": "stdout",
     "output_type": "stream",
     "text": [
      "55mk 0.0007346714670705656\n",
      "60mk 0.0008622328465254923\n",
      "65mk 0.000908162088847681\n",
      "70mk 0.0009243403981269541\n",
      "75mk 0.0010132399905206874\n",
      "80mk 0.0010936625659058014\n",
      "85mk 0.0011359624478254496\n",
      "90mk 0.0011853338239797633\n",
      "95mk 0.001210976014849218\n",
      "100mk 0.0012683486482820176\n",
      "105mk 0.0012690622276686741\n",
      "110mk 0.0012859788537281649\n",
      "115mk 0.001281698038219686\n",
      "120mk 0.0012063307870616438\n",
      "125mk 0.0012225508069428055\n",
      "130mk 0.0012979805733384176\n",
      "135mk 0.0013136757933532694\n",
      "140mk 0.0012592884444723887\n",
      "145mk 0.0012666023447381227\n",
      "150mk 0.0012579379725158478\n",
      "155mk 0.0012576212348120118\n",
      "160mk 0.0012643366887131456\n",
      "165mk 0.0012559275079157765\n",
      "170mk 0.0012570883627826025\n",
      "175mk 0.0012682690557067418\n",
      "180mk 0.0012791634062501607\n",
      "185mk 0.00126810124460504\n",
      "190mk 0.0012660869210031536\n",
      "195mk 0.0012485139268565621\n",
      "200mk 0.0012635968655731321\n"
     ]
    }
   ],
   "source": [
    "print('55mk', np.std(roxestrial_2[0:20]-p_eval[0:20])) #55mK\n",
    "print('60mk', np.std(roxestrial_2[21:40]-p_eval[21:40])) #60mK\n",
    "print('65mk', np.std(roxestrial_2[41:60]-p_eval[41:60])) #65mK\n",
    "print('70mk', np.std(roxestrial_2[61:80]-p_eval[61:80])) #70mK\n",
    "print('75mk', np.std(roxestrial_2[81:100]-p_eval[81:100])) #75mK\n",
    "print('80mk', np.std(roxestrial_2[101:120]-p_eval[101:120])) # 80mK\n",
    "print('85mk', np.std(roxestrial_2[121:140]-p_eval[121:140])) # 85mk\n",
    "print('90mk', np.std(roxestrial_2[141:160]-p_eval[141:160]))\n",
    "print('95mk',np.std(roxestrial_2[161:180]-p_eval[161:180]))\n",
    "print('100mk', np.std(roxestrial_2[181:200]-p_eval[181:200]))\n",
    "print('105mk', np.std(roxestrial_2[201:220]-p_eval[201:220]))\n",
    "print('110mk', np.std(roxestrial_2[221:240]-p_eval[221:240]))\n",
    "print('115mk', np.std(roxestrial_2[241:260]-p_eval[241:260]))\n",
    "print('120mk', np.std(roxestrial_2[261:280]-p_eval[261:280]))\n",
    "print('125mk', np.std(roxestrial_2[281:300]-p_eval[281:300]))\n",
    "print('130mk', np.std(roxestrial_2[300:320]-p_eval[300:320]))\n",
    "print('135mk', np.std(roxestrial_2[320:340]-p_eval[320:340]))\n",
    "print('140mk', np.std(roxestrial_2[341:360]-p_eval[341:360]))\n",
    "print('145mk', np.std(roxestrial_2[361:380]-p_eval[361:380]))\n",
    "print('150mk', np.std(roxestrial_2[381:400]-p_eval[381:400]))\n",
    "print('155mk', np.std(roxestrial_2[401:420]-p_eval[401:420]))\n",
    "print('160mk', np.std(roxestrial_2[421:440]-p_eval[421:440]))\n",
    "print('165mk', np.std(roxestrial_2[441:460]-p_eval[441:460]))\n",
    "print('170mk', np.std(roxestrial_2[461:480]-p_eval[461:480]))\n",
    "print('175mk', np.std(roxestrial_2[481:500]-p_eval[481:500]))\n",
    "print('180mk', np.std(roxestrial_2[501:520]-p_eval[501:520]))\n",
    "print('185mk', np.std(roxestrial_2[521:540]-p_eval[521:540]))\n",
    "print('190mk', np.std(roxestrial_2[541:560]-p_eval[541:560]))\n",
    "print('195mk', np.std(roxestrial_2[561:580]-p_eval[561:580]))\n",
    "print('200mk', np.std(roxestrial_2[581:600]-p_eval[581:600]))"
   ]
  },
  {
   "cell_type": "markdown",
   "metadata": {},
   "source": [
    "### From temperature steps (taking residuals from integer steps of temperature values, NOT a linear fit like done here), the standard dev's are:\n",
    "\n",
    "- These residuals include 5 sets of verification data where it's possible that some temperature steps are misaligned. For example, the closest temperature step for 55mK was either 51mk or 60mK. May need to redo this so that the calculations are happening across the same sets of data when comparing std's\n",
    "\n",
    "[ALL STD's IN KELVIN]\n",
    "\n",
    "- 55mk: 0.0020937218686399675\n",
    "- 75mk: 0.00039664688691029907\n",
    "- 100mk: 7.010182711764236e-05\n",
    "- 125mk: 0.00011461183007369622\n",
    "- 150mk: 8.002471540125872e-05\n",
    "- 175mk: 7.389495448516778e-05\n",
    "- 200mk: 6.805464594423962e-05\n",
    "\n",
    "statistical errors: setpoint story above tells us we calibrated at the actual temperature steps we said we did.\n",
    "\n",
    "### From linear fit of verification data (excluding x001 and a set of ROX data--read above bullet point)\n",
    "\n",
    "[ALL STD's IN KELVIN]\n",
    "\n",
    "- 55mk: 0.0009168679421454772 (when i include that 4th set of data, i get 0.0019 for std; similar to that above)\n",
    "- 75mk: 0.00043589637355573877\n",
    "- 100mk: 5.61023292386575e-05\n",
    "- 125mk: 5.610232923865751e-05\n",
    "- 150mk: 5.610232923865751e-05\n",
    "- 175mk: 5.6102329238657495e-05\n",
    "- 200mk: 5.61023292386575e-05\n",
    "\n",
    "-- Look at the raw residual data points themselves.\n",
    "statistical errors: plot the above steps to see raw residual steps bc std is so same\n",
    "\n",
    "\n",
    "### From the argsort linear fit where the residuals look weird, the standard dev's are:\n",
    "\n",
    "[ALL STD's IN KELVIN]\n",
    "\n",
    "- 55mk: 0.0007346714670705656\n",
    "- 75mk: 0.0010132399905206874\n",
    "- 100mk: 0.0012683486482820176\n",
    "- 125mk: 0.0012225508069428055\n",
    "- 150mk: 0.0012579379725158478\n",
    "- 175mk: 0.0012682690557067418\n",
    "- 200mk: 0.0012635968655731321\n",
    "\n",
    "for all the points at 55mk, take the median (will get rid outliers; fit a line to those median points and then find the np.std of the residuals at each step).\n",
    "\n",
    "\n",
    "### X001 Standard Dev's: \n",
    "Standard Deviations of X001 data (not including a 'bad' batch where there is no 55mk, only 51mk or 60mk—the data points for the other steps are good data so not sure i need to make such a clean break). Only 2 batches of x001 data. \n",
    "\n",
    "[ALL STD's IN KELVIN]\n",
    "\n",
    "- 55mk: 0.0015658671336553978\n",
    "- 75mk: 0.0005964554267310768\n",
    "- 100mk: 5.982305470878663e-05\n",
    "- 125mk: 0.00012039202898550538\n",
    "- 150mk: 7.153706080538502e-05\n",
    "- 175mk: 7.376247987120332e-05\n",
    "- 200mk: 3.681803542675277e-05\n",
    "\n",
    "this is a systematic error"
   ]
  },
  {
   "cell_type": "code",
   "execution_count": null,
   "metadata": {},
   "outputs": [],
   "source": []
  },
  {
   "cell_type": "code",
   "execution_count": null,
   "metadata": {},
   "outputs": [],
   "source": []
  },
  {
   "cell_type": "code",
   "execution_count": null,
   "metadata": {},
   "outputs": [],
   "source": []
  },
  {
   "cell_type": "code",
   "execution_count": 34,
   "metadata": {},
   "outputs": [
    {
     "data": {
      "text/plain": [
       "[<matplotlib.lines.Line2D at 0x7f50271f5898>]"
      ]
     },
     "execution_count": 34,
     "metadata": {},
     "output_type": "execute_result"
    },
    {
     "data": {
      "image/png": "[encoded data removed]",
      "text/plain": [
       "<Figure size 720x576 with 1 Axes>"
      ]
     },
     "metadata": {
      "needs_background": "light"
     },
     "output_type": "display_data"
    }
   ],
   "source": [
    "plt.plot(lsrox_trial2, (roxestrial_2-p_eval), '.')\n",
    "#linear fit - rox verification temps "
   ]
  },
  {
   "cell_type": "code",
   "execution_count": 35,
   "metadata": {},
   "outputs": [
    {
     "name": "stdout",
     "output_type": "stream",
     "text": [
      "[0.05403129 0.05487357 0.05511534 0.05515814 0.05523142 0.05524996\n",
      " 0.05529935 0.0553045  0.05530974 0.05531877]\n",
      "[0.05536234 0.05560368 0.05584502 0.05608636 0.0563277  0.05656904\n",
      " 0.05681038 0.05705172 0.05729306 0.05753441]\n"
     ]
    }
   ],
   "source": [
    "print(roxestrial_2[0:10])\n",
    "print(p_eval[0:10])"
   ]
  },
  {
   "cell_type": "code",
   "execution_count": 36,
   "metadata": {},
   "outputs": [
    {
     "data": {
      "text/plain": [
       "array([0.05536234, 0.05560368, 0.05584502, 0.05608636, 0.0563277 ,\n",
       "       0.05656904, 0.05681038, 0.05705172, 0.05729306, 0.05753441,\n",
       "       0.05777575, 0.05801709, 0.05825843, 0.05849977, 0.05874111,\n",
       "       0.05898245, 0.05922379, 0.05946513, 0.05970647, 0.05994781,\n",
       "       0.06018915, 0.06043049, 0.06067183, 0.06091317, 0.06115451,\n",
       "       0.06139585, 0.06163719, 0.06187853, 0.06211987, 0.06236121,\n",
       "       0.06260256, 0.0628439 , 0.06308524, 0.06332658, 0.06356792,\n",
       "       0.06380926, 0.0640506 , 0.06429194, 0.06453328, 0.06477462,\n",
       "       0.06501596, 0.0652573 , 0.06549864, 0.06573998, 0.06598132,\n",
       "       0.06622266, 0.066464  , 0.06670534, 0.06694668, 0.06718802,\n",
       "       0.06742936, 0.06767071, 0.06791205, 0.06815339, 0.06839473,\n",
       "       0.06863607, 0.06887741, 0.06911875, 0.06936009, 0.06960143,\n",
       "       0.06984277, 0.07008411, 0.07032545, 0.07056679, 0.07080813,\n",
       "       0.07104947, 0.07129081, 0.07153215, 0.07177349, 0.07201483,\n",
       "       0.07225617, 0.07249751, 0.07273885, 0.0729802 , 0.07322154,\n",
       "       0.07346288, 0.07370422, 0.07394556, 0.0741869 , 0.07442824,\n",
       "       0.07466958, 0.07491092, 0.07515226, 0.0753936 , 0.07563494,\n",
       "       0.07587628, 0.07611762, 0.07635896, 0.0766003 , 0.07684164,\n",
       "       0.07708298, 0.07732432, 0.07756566, 0.077807  , 0.07804835,\n",
       "       0.07828969, 0.07853103, 0.07877237, 0.07901371, 0.07925505,\n",
       "       0.07949639, 0.07973773, 0.07997907, 0.08022041, 0.08046175,\n",
       "       0.08070309, 0.08094443, 0.08118577, 0.08142711, 0.08166845,\n",
       "       0.08190979, 0.08215113, 0.08239247, 0.08263381, 0.08287515,\n",
       "       0.0831165 , 0.08335784, 0.08359918, 0.08384052, 0.08408186,\n",
       "       0.0843232 , 0.08456454, 0.08480588, 0.08504722, 0.08528856,\n",
       "       0.0855299 , 0.08577124, 0.08601258, 0.08625392, 0.08649526,\n",
       "       0.0867366 , 0.08697794, 0.08721928, 0.08746062, 0.08770196,\n",
       "       0.0879433 , 0.08818464, 0.08842599, 0.08866733, 0.08890867,\n",
       "       0.08915001, 0.08939135, 0.08963269, 0.08987403, 0.09011537,\n",
       "       0.09035671, 0.09059805, 0.09083939, 0.09108073, 0.09132207,\n",
       "       0.09156341, 0.09180475, 0.09204609, 0.09228743, 0.09252877,\n",
       "       0.09277011, 0.09301145, 0.09325279, 0.09349414, 0.09373548,\n",
       "       0.09397682, 0.09421816, 0.0944595 , 0.09470084, 0.09494218,\n",
       "       0.09518352, 0.09542486, 0.0956662 , 0.09590754, 0.09614888,\n",
       "       0.09639022, 0.09663156, 0.0968729 , 0.09711424, 0.09735558,\n",
       "       0.09759692, 0.09783826, 0.0980796 , 0.09832094, 0.09856229,\n",
       "       0.09880363, 0.09904497, 0.09928631, 0.09952765, 0.09976899,\n",
       "       0.10001033, 0.10025167, 0.10049301, 0.10073435, 0.10097569,\n",
       "       0.10121703, 0.10145837, 0.10169971, 0.10194105, 0.10218239,\n",
       "       0.10242373, 0.10266507, 0.10290641, 0.10314775, 0.10338909,\n",
       "       0.10363043, 0.10387178, 0.10411312, 0.10435446, 0.1045958 ,\n",
       "       0.10483714, 0.10507848, 0.10531982, 0.10556116, 0.1058025 ,\n",
       "       0.10604384, 0.10628518, 0.10652652, 0.10676786, 0.1070092 ,\n",
       "       0.10725054, 0.10749188, 0.10773322, 0.10797456, 0.1082159 ,\n",
       "       0.10845724, 0.10869858, 0.10893993, 0.10918127, 0.10942261,\n",
       "       0.10966395, 0.10990529, 0.11014663, 0.11038797, 0.11062931,\n",
       "       0.11087065, 0.11111199, 0.11135333, 0.11159467, 0.11183601,\n",
       "       0.11207735, 0.11231869, 0.11256003, 0.11280137, 0.11304271,\n",
       "       0.11328405, 0.11352539, 0.11376673, 0.11400808, 0.11424942,\n",
       "       0.11449076, 0.1147321 , 0.11497344, 0.11521478, 0.11545612,\n",
       "       0.11569746, 0.1159388 , 0.11618014, 0.11642148, 0.11666282,\n",
       "       0.11690416, 0.1171455 , 0.11738684, 0.11762818, 0.11786952,\n",
       "       0.11811086, 0.1183522 , 0.11859354, 0.11883488, 0.11907622,\n",
       "       0.11931757, 0.11955891, 0.11980025, 0.12004159, 0.12028293,\n",
       "       0.12052427, 0.12076561, 0.12100695, 0.12124829, 0.12148963,\n",
       "       0.12173097, 0.12197231, 0.12221365, 0.12245499, 0.12269633,\n",
       "       0.12293767, 0.12317901, 0.12342035, 0.12366169, 0.12390303,\n",
       "       0.12414437, 0.12438572, 0.12462706, 0.1248684 , 0.12510974,\n",
       "       0.12535108, 0.12559242, 0.12583376, 0.1260751 , 0.12631644,\n",
       "       0.12655778, 0.12679912, 0.12704046, 0.1272818 , 0.12752314,\n",
       "       0.12776448, 0.12800582, 0.12824716, 0.1284885 , 0.12872984,\n",
       "       0.12897118, 0.12921252, 0.12945386, 0.12969521, 0.12993655,\n",
       "       0.13017789, 0.13041923, 0.13066057, 0.13090191, 0.13114325,\n",
       "       0.13138459, 0.13162593, 0.13186727, 0.13210861, 0.13234995,\n",
       "       0.13259129, 0.13283263, 0.13307397, 0.13331531, 0.13355665,\n",
       "       0.13379799, 0.13403933, 0.13428067, 0.13452201, 0.13476336,\n",
       "       0.1350047 , 0.13524604, 0.13548738, 0.13572872, 0.13597006,\n",
       "       0.1362114 , 0.13645274, 0.13669408, 0.13693542, 0.13717676,\n",
       "       0.1374181 , 0.13765944, 0.13790078, 0.13814212, 0.13838346,\n",
       "       0.1386248 , 0.13886614, 0.13910748, 0.13934882, 0.13959016,\n",
       "       0.13983151, 0.14007285, 0.14031419, 0.14055553, 0.14079687,\n",
       "       0.14103821, 0.14127955, 0.14152089, 0.14176223, 0.14200357,\n",
       "       0.14224491, 0.14248625, 0.14272759, 0.14296893, 0.14321027,\n",
       "       0.14345161, 0.14369295, 0.14393429, 0.14417563, 0.14441697,\n",
       "       0.14465831, 0.14489965, 0.145141  , 0.14538234, 0.14562368,\n",
       "       0.14586502, 0.14610636, 0.1463477 , 0.14658904, 0.14683038,\n",
       "       0.14707172, 0.14731306, 0.1475544 , 0.14779574, 0.14803708,\n",
       "       0.14827842, 0.14851976, 0.1487611 , 0.14900244, 0.14924378,\n",
       "       0.14948512, 0.14972646, 0.1499678 , 0.15020915, 0.15045049,\n",
       "       0.15069183, 0.15093317, 0.15117451, 0.15141585, 0.15165719,\n",
       "       0.15189853, 0.15213987, 0.15238121, 0.15262255, 0.15286389,\n",
       "       0.15310523, 0.15334657, 0.15358791, 0.15382925, 0.15407059,\n",
       "       0.15431193, 0.15455327, 0.15479461, 0.15503595, 0.1552773 ,\n",
       "       0.15551864, 0.15575998, 0.15600132, 0.15624266, 0.156484  ,\n",
       "       0.15672534, 0.15696668, 0.15720802, 0.15744936, 0.1576907 ,\n",
       "       0.15793204, 0.15817338, 0.15841472, 0.15865606, 0.1588974 ,\n",
       "       0.15913874, 0.15938008, 0.15962142, 0.15986276, 0.1601041 ,\n",
       "       0.16034544, 0.16058679, 0.16082813, 0.16106947, 0.16131081,\n",
       "       0.16155215, 0.16179349, 0.16203483, 0.16227617, 0.16251751,\n",
       "       0.16275885, 0.16300019, 0.16324153, 0.16348287, 0.16372421,\n",
       "       0.16396555, 0.16420689, 0.16444823, 0.16468957, 0.16493091,\n",
       "       0.16517225, 0.16541359, 0.16565494, 0.16589628, 0.16613762,\n",
       "       0.16637896, 0.1666203 , 0.16686164, 0.16710298, 0.16734432,\n",
       "       0.16758566, 0.167827  , 0.16806834, 0.16830968, 0.16855102,\n",
       "       0.16879236, 0.1690337 , 0.16927504, 0.16951638, 0.16975772,\n",
       "       0.16999906, 0.1702404 , 0.17048174, 0.17072309, 0.17096443,\n",
       "       0.17120577, 0.17144711, 0.17168845, 0.17192979, 0.17217113,\n",
       "       0.17241247, 0.17265381, 0.17289515, 0.17313649, 0.17337783,\n",
       "       0.17361917, 0.17386051, 0.17410185, 0.17434319, 0.17458453,\n",
       "       0.17482587, 0.17506721, 0.17530855, 0.17554989, 0.17579123,\n",
       "       0.17603258, 0.17627392, 0.17651526, 0.1767566 , 0.17699794,\n",
       "       0.17723928, 0.17748062, 0.17772196, 0.1779633 , 0.17820464,\n",
       "       0.17844598, 0.17868732, 0.17892866, 0.17917   , 0.17941134,\n",
       "       0.17965268, 0.17989402, 0.18013536, 0.1803767 , 0.18061804,\n",
       "       0.18085938, 0.18110073, 0.18134207, 0.18158341, 0.18182475,\n",
       "       0.18206609, 0.18230743, 0.18254877, 0.18279011, 0.18303145,\n",
       "       0.18327279, 0.18351413, 0.18375547, 0.18399681, 0.18423815,\n",
       "       0.18447949, 0.18472083, 0.18496217, 0.18520351, 0.18544485,\n",
       "       0.18568619, 0.18592753, 0.18616888, 0.18641022, 0.18665156,\n",
       "       0.1868929 , 0.18713424, 0.18737558, 0.18761692, 0.18785826,\n",
       "       0.1880996 , 0.18834094, 0.18858228, 0.18882362, 0.18906496,\n",
       "       0.1893063 , 0.18954764, 0.18978898, 0.19003032, 0.19027166,\n",
       "       0.190513  , 0.19075434, 0.19099568, 0.19123702, 0.19147837,\n",
       "       0.19171971, 0.19196105, 0.19220239, 0.19244373, 0.19268507,\n",
       "       0.19292641, 0.19316775, 0.19340909, 0.19365043, 0.19389177,\n",
       "       0.19413311, 0.19437445, 0.19461579, 0.19485713, 0.19509847,\n",
       "       0.19533981, 0.19558115, 0.19582249, 0.19606383, 0.19630517,\n",
       "       0.19654652, 0.19678786, 0.1970292 , 0.19727054, 0.19751188,\n",
       "       0.19775322, 0.19799456, 0.1982359 , 0.19847724, 0.19871858,\n",
       "       0.19895992, 0.19920126, 0.1994426 , 0.19968394, 0.19992528])"
      ]
     },
     "execution_count": 36,
     "metadata": {},
     "output_type": "execute_result"
    }
   ],
   "source": [
    "p_eval"
   ]
  },
  {
   "cell_type": "code",
   "execution_count": null,
   "metadata": {},
   "outputs": [],
   "source": []
  },
  {
   "cell_type": "code",
   "execution_count": null,
   "metadata": {},
   "outputs": [],
   "source": []
  },
  {
   "cell_type": "code",
   "execution_count": null,
   "metadata": {},
   "outputs": [],
   "source": []
  },
  {
   "cell_type": "code",
   "execution_count": null,
   "metadata": {},
   "outputs": [],
   "source": []
  },
  {
   "cell_type": "markdown",
   "metadata": {},
   "source": [
    "### Trying to get the proper residuals from the below setup since above is on my last nerve"
   ]
  },
  {
   "cell_type": "code",
   "execution_count": 37,
   "metadata": {},
   "outputs": [
    {
     "data": {
      "text/plain": [
       "Text(0.5, 1.0, 'Verification Run Residuals from Linear Fit')"
      ]
     },
     "execution_count": 37,
     "metadata": {},
     "output_type": "execute_result"
    },
    {
     "data": {
      "image/png": "[encoded data removed]",
      "text/plain": [
       "<Figure size 720x576 with 1 Axes>"
      ]
     },
     "metadata": {
      "needs_background": "light"
     },
     "output_type": "display_data"
    }
   ],
   "source": [
    "p_eval_2 = p(np.linspace(np.min(lsrox_trial2), np.max(lsrox_trial2), len(lsroxtemps))) #also should be min and max of lsroxtemps\n",
    "plt.plot(lsroxtemps, (np.sort(x031)-p_eval_2), '.')\n",
    "plt.plot(lsroxtemps, (np.sort(x032)-p_eval_2), '.')\n",
    "plt.plot(lsroxtemps, (np.sort(x102)-p_eval_2), '.')\n",
    "plt.plot(lsroxtemps, (np.sort(x001)-p_eval_2), '.')\n",
    "plt.plot(lsroxtemps, (np.sort(x111)-p_eval_2), '.')\n",
    "plt.plot(lsroxtemps, (np.sort(x083[0:30])-p_eval_2), '.')\n",
    "plt.plot(lsroxtemps, (np.sort(x075[0:30])-p_eval_2), '.')\n",
    "plt.plot(lsroxtemps, (np.sort(x035[0:30])-p_eval_2), '.')\n",
    "plt.plot(lsroxtemps, (np.sort(x076[0:30])-p_eval_2), '.')\n",
    "plt.plot(lsroxtemps, (np.sort(x029[0:30])-p_eval_2), '.')\n",
    "plt.plot(lsroxtemps, (np.sort(x090[0:30])-p_eval_2), '.')\n",
    "plt.plot(lsroxtemps, (np.sort(x039[0:30])-p_eval_2), '.')\n",
    "plt.plot(lsroxtemps, (np.sort(x050[0:30])-p_eval_2), '.')\n",
    "plt.plot(lsroxtemps, (np.sort(x021[0:30])-p_eval_2), '.')\n",
    "plt.plot(lsroxtemps, (np.sort(x038[0:30])-p_eval_2), '.')\n",
    "plt.plot(lsroxtemps, (np.sort(x092[0:30])-p_eval_2), '.')\n",
    "plt.plot(lsroxtemps, (np.sort(x026[0:30])-p_eval_2), '.')\n",
    "#plt.plot(lsroxtemps, (np.sort(x057)-p_eval_2), '.')\n",
    "#plt.plot(lsroxtemps, (np.sort(x044)-p_eval_2), '.')\n",
    "#plt.plot(lsroxtemps, (np.sort(x113)-p_eval_2), '.')\n",
    "#plt.plot(lsroxtemps, (np.sort(x097)-p_eval_2), '.')\n",
    "plt.plot(lsroxtemps, (np.sort(x068[1:])-p_eval_2), '.')\n",
    "plt.plot(lsroxtemps, (np.sort(x071[1:])-p_eval_2), '.')\n",
    "plt.plot(lsroxtemps, (np.sort(x079[1:])-p_eval_2), '.')\n",
    "plt.plot(lsroxtemps, (np.sort(x064[1:])-p_eval_2), '.')\n",
    "#linear fit - rox verification temps \n",
    "plt.xlabel(\"LSCALROX Temperatures [K]\", fontsize = 14)\n",
    "plt.ylabel(\"SO ROXes' Temperature Residuals [K]\", fontsize = 14)\n",
    "plt.title(\"Verification Run Residuals from Linear Fit\", fontsize = 14)"
   ]
  },
  {
   "cell_type": "markdown",
   "metadata": {},
   "source": [
    "### finding standard deviations for p_eval2 to compare with argsort linear fit"
   ]
  },
  {
   "cell_type": "code",
   "execution_count": 38,
   "metadata": {},
   "outputs": [],
   "source": [
    "x031=np.sort(x031)\n",
    "x032=np.sort(x032)\n",
    "x102=np.sort(x102)\n",
    "x111=np.sort(x111)\n",
    "x083=np.sort(x083[0:30])\n",
    "x075=np.sort(x075[0:30])\n",
    "x035=np.sort(x035[0:30])\n",
    "x076=np.sort(x076[0:30])\n",
    "x029=np.sort(x029[0:30])\n",
    "x090=np.sort(x090[0:30])\n",
    "x039=np.sort(x039[0:30])\n",
    "x050=np.sort(x050[0:30])\n",
    "x021=np.sort(x021[0:30])\n",
    "x038=np.sort(x038[0:30])\n",
    "x092=np.sort(x092[0:30])\n",
    "x026=np.sort(x026[0:30])"
   ]
  },
  {
   "cell_type": "code",
   "execution_count": 39,
   "metadata": {},
   "outputs": [
    {
     "name": "stdout",
     "output_type": "stream",
     "text": [
      "0.07512483695652175\n",
      "0.0744459043478261\n",
      "0.0750892695652174\n",
      "0.07523245\n",
      "0.0751026847826087\n",
      "0.07506816304347827\n",
      "0.07512142173913042\n",
      "0.07510039782608695\n",
      "0.07497511777777778\n",
      "0.07514163043478261\n",
      "0.0751392304347826\n",
      "0.07601011660516604\n",
      "0.07611182509225091\n",
      "0.07596407490774908\n",
      "0.07595214259259259\n",
      "0.0759814125925926\n",
      "0.07530205711132497\n"
     ]
    }
   ],
   "source": [
    "print(x031[4])\n",
    "print(x032[4])\n",
    "print(x102[4])\n",
    "print(x111[4])\n",
    "print(x083[4])\n",
    "print(x075[4])\n",
    "print(x035[4])\n",
    "print(x076[4])\n",
    "print(x029[4])\n",
    "print(x090[4])\n",
    "print(x039[4])\n",
    "print(x050[4])\n",
    "print(x021[4])\n",
    "print(x038[4])\n",
    "print(x092[4])\n",
    "print(x026[4])\n",
    "print(p_eval_2[4])"
   ]
  },
  {
   "cell_type": "code",
   "execution_count": 40,
   "metadata": {},
   "outputs": [],
   "source": [
    "roxes_1 = []\n",
    "for ser, values in all_verify_data[0].items():\n",
    "    roxes_1.append(ser)\n",
    "\n",
    "roxes_1.remove('CAL')\n",
    "roxes_1.remove('X-001')\n",
    "\n",
    "roxes_2 = []\n",
    "for ser, values in all_verify_data[1].items():\n",
    "    roxes_2.append(ser)\n",
    "\n",
    "roxes_2.remove('CAL')\n",
    "\n",
    "roxes_3 = []\n",
    "for ser, values in all_verify_data[2].items():\n",
    "    roxes_3.append(ser)\n",
    "\n",
    "roxes_3.remove('CAL')\n",
    "roxes_3.remove('X-001')\n",
    "\n",
    "roxes_4 = []\n",
    "for ser, values in all_verify_data[3].items():\n",
    "    roxes_4.append(ser)\n",
    "\n",
    "roxes_4.remove('CAL')\n",
    "roxes_4.remove('X-001')\n",
    "\n",
    "roxes_5 = []\n",
    "for ser, values in all_verify_data[4].items():\n",
    "    roxes_5.append(ser)\n",
    "\n",
    "roxes_5.remove('CAL')\n"
   ]
  },
  {
   "cell_type": "code",
   "execution_count": 41,
   "metadata": {},
   "outputs": [
    {
     "name": "stdout",
     "output_type": "stream",
     "text": [
      "a check:  0.05544777111111113\n",
      "lin fit value:  0.05536234116380533\n",
      "a check:  0.05403129347826086\n",
      "lin fit value:  0.05536234116380533\n",
      "a check:  0.05529934782608696\n",
      "lin fit value:  0.05536234116380533\n",
      "a check:  0.05551434565217391\n",
      "lin fit value:  0.05536234116380533\n",
      "a check:  0.055418886956521723\n",
      "lin fit value:  0.05536234116380533\n",
      "a check:  0.055400278260869566\n",
      "lin fit value:  0.05536234116380533\n",
      "a check:  0.05539585\n",
      "lin fit value:  0.05536234116380533\n",
      "a check:  0.05531877173913043\n",
      "lin fit value:  0.05536234116380533\n",
      "a check:  0.05487357173913044\n",
      "lin fit value:  0.05536234116380533\n",
      "a check:  0.055304497826086964\n",
      "lin fit value:  0.05536234116380533\n",
      "a check:  0.055309743478260856\n",
      "lin fit value:  0.05536234116380533\n",
      "a check:  0.05691346111111111\n",
      "lin fit value:  0.05536234116380533\n",
      "a check:  0.057095271955719555\n",
      "lin fit value:  0.05536234116380533\n",
      "a check:  0.05727776888888889\n",
      "lin fit value:  0.05536234116380533\n",
      "a check:  0.05735992103321034\n",
      "lin fit value:  0.05536234116380533\n",
      "a check:  0.057327857933579335\n",
      "lin fit value:  0.05536234116380533\n",
      "a check:  0.05511533695652173\n",
      "lin fit value:  0.05536234116380533\n",
      "a check:  0.055249956521739134\n",
      "lin fit value:  0.05536234116380533\n",
      "a check:  0.05515814222222222\n",
      "lin fit value:  0.05536234116380533\n",
      "a check:  0.055231417777777785\n",
      "lin fit value:  0.05536234116380533\n"
     ]
    }
   ],
   "source": [
    "resids_55mk = []\n",
    "for idx, ser in enumerate(roxes_1):\n",
    "    print('a check: ', all_verify_data[0][ser]['temp_avg'][29])\n",
    "    print('lin fit value: ', p_eval_2[0])\n",
    "    resids = all_verify_data[0][ser]['temp_avg'][29]-p_eval_2[0]\n",
    "    resids_55mk.append(resids)\n",
    "    \n",
    "for idx, ser in enumerate(roxes_2):\n",
    "    print('a check: ', all_verify_data[1][ser]['temp_avg'][29])\n",
    "    print('lin fit value: ', p_eval_2[0])\n",
    "    resids = all_verify_data[1][ser]['temp_avg'][29]-p_eval_2[0]\n",
    "    resids_55mk.append(resids)\n",
    "\n",
    "for idx, ser in enumerate(roxes_3):\n",
    "    print('a check: ', all_verify_data[2][ser]['temp_avg'][29])\n",
    "    print('lin fit value: ', p_eval_2[0])\n",
    "    resids = all_verify_data[2][ser]['temp_avg'][29]-p_eval_2[0]\n",
    "    resids_55mk.append(resids)\n",
    "\n",
    "#for idx, ser in enumerate(roxes_4):\n",
    "#    print('a check: ', all_verify_data[3][ser]['temp_avg'][28])\n",
    "#    print('lin fit value: ', p_eval_2[0])\n",
    "#    resids = all_verify_data[3][ser]['temp_avg'][28]-p_eval_2[0]\n",
    "#    resids_55mk.append(resids)\n",
    "\n",
    "#print(roxes_4)\n",
    "\n",
    "## recall that this batch above has 51mk and 60mk step so ignoring for now\n",
    "\n",
    "for idx, ser in enumerate(roxes_5):\n",
    "    print('a check: ', all_verify_data[4][ser]['temp_avg'][-1])\n",
    "    print('lin fit value: ', p_eval_2[0])\n",
    "    resids = all_verify_data[4][ser]['temp_avg'][-1]-p_eval_2[0]\n",
    "    resids_55mk.append(resids)\n",
    "\n"
   ]
  },
  {
   "cell_type": "code",
   "execution_count": 42,
   "metadata": {},
   "outputs": [
    {
     "data": {
      "text/plain": [
       "[8.542994730579428e-05,\n",
       " -0.0013310476855444703,\n",
       " -6.29933377183714e-05,\n",
       " 0.00015200448836857894,\n",
       " 5.654579271639065e-05,\n",
       " 3.793709706423343e-05,\n",
       " 3.35088361946706e-05,\n",
       " -4.356942467489966e-05,\n",
       " -0.0004887694246748925,\n",
       " -5.7843337718369026e-05,\n",
       " -5.25976855444768e-05,\n",
       " 0.001551119947305779,\n",
       " 0.0017329307919142223,\n",
       " 0.00191542772508356,\n",
       " 0.0019975798694050056,\n",
       " 0.001965516769774002,\n",
       " -0.00024700420728360206,\n",
       " -0.00011238464206619891,\n",
       " -0.00020419894158311275,\n",
       " -0.00013092338602754827]"
      ]
     },
     "execution_count": 42,
     "metadata": {},
     "output_type": "execute_result"
    }
   ],
   "source": [
    "resids_55mk"
   ]
  },
  {
   "cell_type": "code",
   "execution_count": 43,
   "metadata": {},
   "outputs": [
    {
     "data": {
      "text/plain": [
       "0.0009168679421454772"
      ]
     },
     "execution_count": 43,
     "metadata": {},
     "output_type": "execute_result"
    }
   ],
   "source": [
    "np.std(resids_55mk)"
   ]
  },
  {
   "cell_type": "code",
   "execution_count": 44,
   "metadata": {},
   "outputs": [
    {
     "name": "stdout",
     "output_type": "stream",
     "text": [
      "a check:  0.07512483695652175\n",
      "lin fit value:  0.07530205711132497\n",
      "a check:  0.0744459043478261\n",
      "lin fit value:  0.07530205711132497\n",
      "a check:  0.0750892695652174\n",
      "lin fit value:  0.07530205711132497\n",
      "a check:  0.07523245\n",
      "lin fit value:  0.07530205711132497\n",
      "a check:  0.0751026847826087\n",
      "lin fit value:  0.07530205711132497\n",
      "a check:  0.07506816304347827\n",
      "lin fit value:  0.07530205711132497\n",
      "a check:  0.07512142173913042\n",
      "lin fit value:  0.07530205711132497\n",
      "a check:  0.07510039782608695\n",
      "lin fit value:  0.07530205711132497\n",
      "a check:  0.07497511777777778\n",
      "lin fit value:  0.07530205711132497\n",
      "a check:  0.07514163043478261\n",
      "lin fit value:  0.07530205711132497\n",
      "a check:  0.0751392304347826\n",
      "lin fit value:  0.07530205711132497\n",
      "a check:  0.07601011660516604\n",
      "lin fit value:  0.07530205711132497\n",
      "a check:  0.07611182509225091\n",
      "lin fit value:  0.07530205711132497\n",
      "a check:  0.07596407490774908\n",
      "lin fit value:  0.07530205711132497\n",
      "a check:  0.07595214259259259\n",
      "lin fit value:  0.07530205711132497\n",
      "a check:  0.0759814125925926\n",
      "lin fit value:  0.07530205711132497\n",
      "a check:  0.07504452888888888\n",
      "lin fit value:  0.07530205711132497\n",
      "a check:  0.07513464\n",
      "lin fit value:  0.07530205711132497\n",
      "a check:  0.07508414444444445\n",
      "lin fit value:  0.07530205711132497\n",
      "a check:  0.07510714782608695\n",
      "lin fit value:  0.07530205711132497\n"
     ]
    }
   ],
   "source": [
    "resids_75mk = []\n",
    "for idx, ser in enumerate(roxes_1):\n",
    "    print('a check: ', all_verify_data[0][ser]['temp_avg'][25])\n",
    "    print('lin fit value: ', p_eval_2[4])\n",
    "    resids = all_verify_data[0][ser]['temp_avg'][25]-p_eval_2[4]\n",
    "    resids_75mk.append(resids)\n",
    "    \n",
    "for idx, ser in enumerate(roxes_2):\n",
    "    print('a check: ', all_verify_data[1][ser]['temp_avg'][25])\n",
    "    print('lin fit value: ', p_eval_2[4])\n",
    "    resids = all_verify_data[1][ser]['temp_avg'][25]-p_eval_2[4]\n",
    "    resids_75mk.append(resids)\n",
    "    \n",
    "for idx, ser in enumerate(roxes_3):\n",
    "    print('a check: ', all_verify_data[2][ser]['temp_avg'][25])\n",
    "    print('lin fit value: ', p_eval_2[4])\n",
    "    resids = all_verify_data[2][ser]['temp_avg'][25]-p_eval_2[4]\n",
    "    resids_75mk.append(resids)\n",
    "    \n",
    "#for idx, ser in enumerate(roxes_4):\n",
    "#    print('a check: ', all_verify_data[3][ser]['temp_avg'][25])\n",
    "#    print('lin fit value: ', p_eval_2[4])\n",
    "#    resids = all_verify_data[3][ser]['temp_avg'][25]-p_eval_2[4]\n",
    "#    resids_75mk.append(resids)\n",
    "    \n",
    "for idx, ser in enumerate(roxes_5):\n",
    "    print('a check: ', all_verify_data[4][ser]['temp_avg'][26])\n",
    "    print('lin fit value: ', p_eval_2[4])\n",
    "    resids = all_verify_data[4][ser]['temp_avg'][26]-p_eval_2[4]\n",
    "    resids_75mk.append(resids)"
   ]
  },
  {
   "cell_type": "code",
   "execution_count": 45,
   "metadata": {},
   "outputs": [
    {
     "data": {
      "text/plain": [
       "[-0.00017722015480321762,\n",
       " -0.0008561527634988741,\n",
       " -0.0002127875461075679,\n",
       " -6.960711132496245e-05,\n",
       " -0.00019937232871626576,\n",
       " -0.00023389406784669886,\n",
       " -0.0001806353721945514,\n",
       " -0.00020165928523802057,\n",
       " -0.0003269393335471882,\n",
       " -0.0001604266765423551,\n",
       " -0.0001628266765423686,\n",
       " 0.0007080594938410761,\n",
       " 0.0008097679809259406,\n",
       " 0.0006620177964241081,\n",
       " 0.0006500854812676177,\n",
       " 0.0006793554812676295,\n",
       " -0.0002575282224360903,\n",
       " -0.00016741711132496617,\n",
       " -0.0002179126668805237,\n",
       " -0.00019490928523802076]"
      ]
     },
     "execution_count": 45,
     "metadata": {},
     "output_type": "execute_result"
    }
   ],
   "source": [
    "resids_75mk"
   ]
  },
  {
   "cell_type": "code",
   "execution_count": 46,
   "metadata": {},
   "outputs": [
    {
     "data": {
      "text/plain": [
       "0.00043589637355573877"
      ]
     },
     "execution_count": 46,
     "metadata": {},
     "output_type": "execute_result"
    }
   ],
   "source": [
    "np.std(resids_75mk)"
   ]
  },
  {
   "cell_type": "code",
   "execution_count": 47,
   "metadata": {},
   "outputs": [
    {
     "name": "stdout",
     "output_type": "stream",
     "text": [
      "0.10022670204572452\n"
     ]
    }
   ],
   "source": [
    "print(p_eval_2[9])"
   ]
  },
  {
   "cell_type": "code",
   "execution_count": 61,
   "metadata": {},
   "outputs": [
    {
     "name": "stdout",
     "output_type": "stream",
     "text": [
      "a check:  0.10022925434782609\n",
      "lin fit value:  0.10022670204572452\n",
      "a check:  0.10013810652173913\n",
      "lin fit value:  0.10022670204572452\n",
      "a check:  0.10017904347826084\n",
      "lin fit value:  0.10022670204572452\n",
      "a check:  0.10018133260869568\n",
      "lin fit value:  0.10022670204572452\n",
      "a check:  0.1000657891304348\n",
      "lin fit value:  0.10022670204572452\n",
      "a check:  0.10006530652173914\n",
      "lin fit value:  0.10022670204572452\n",
      "a check:  0.1000942956521739\n",
      "lin fit value:  0.10022670204572452\n",
      "a check:  0.10007204130434783\n",
      "lin fit value:  0.10022670204572452\n",
      "a check:  0.10004542826086958\n",
      "lin fit value:  0.10022670204572452\n",
      "a check:  0.10011078222222218\n",
      "lin fit value:  0.10022670204572452\n",
      "a check:  0.10008144888888891\n",
      "lin fit value:  0.10022670204572452\n",
      "a check:  0.10018632222222221\n",
      "lin fit value:  0.10022670204572452\n",
      "a check:  0.10016450553505535\n",
      "lin fit value:  0.10022670204572452\n",
      "a check:  0.10018552222222223\n",
      "lin fit value:  0.10022670204572452\n",
      "a check:  0.10018753703703703\n",
      "lin fit value:  0.10022670204572452\n",
      "a check:  0.10016119188191881\n",
      "lin fit value:  0.10022670204572452\n",
      "a check:  0.10006088043478259\n",
      "lin fit value:  0.10022670204572452\n",
      "a check:  0.10012191304347827\n",
      "lin fit value:  0.10022670204572452\n",
      "a check:  0.10004958043478258\n",
      "lin fit value:  0.10022670204572452\n",
      "a check:  0.10007341555555556\n",
      "lin fit value:  0.10022670204572452\n"
     ]
    }
   ],
   "source": [
    "resids_100mk = []\n",
    "for idx, ser in enumerate(roxes_1):\n",
    "    print('a check: ', all_verify_data[0][ser]['temp_avg'][20])\n",
    "    print('lin fit value: ', p_eval_2[9])\n",
    "    resids = all_verify_data[0][ser]['temp_avg'][20]-p_eval_2[9]\n",
    "    resids_100mk.append(resids)\n",
    "    \n",
    "for idx, ser in enumerate(roxes_2):\n",
    "    print('a check: ', all_verify_data[1][ser]['temp_avg'][20])\n",
    "    print('lin fit value: ', p_eval_2[9])\n",
    "    resids = all_verify_data[1][ser]['temp_avg'][20]-p_eval_2[9]\n",
    "    resids_100mk.append(resids)\n",
    "    \n",
    "for idx, ser in enumerate(roxes_3):\n",
    "    print('a check: ', all_verify_data[2][ser]['temp_avg'][20])\n",
    "    print('lin fit value: ', p_eval_2[9])\n",
    "    resids = all_verify_data[2][ser]['temp_avg'][20]-p_eval_2[9]\n",
    "    resids_100mk.append(resids)\n",
    "    \n",
    "#for idx, ser in enumerate(roxes_4):\n",
    "#    print('a check: ', all_verify_data[3][ser]['temp_avg'][25])\n",
    "#    print('lin fit value: ', p_eval_2[4])\n",
    "#    resids = all_verify_data[3][ser]['temp_avg'][25]-p_eval_2[4]\n",
    "#    resids_75mk.append(resids)\n",
    "    \n",
    "for idx, ser in enumerate(roxes_5):\n",
    "    print('a check: ', all_verify_data[4][ser]['temp_avg'][21])\n",
    "    print('lin fit value: ', p_eval_2[9])\n",
    "    resids = all_verify_data[4][ser]['temp_avg'][21]-p_eval_2[9]\n",
    "    resids_100mk.append(resids)"
   ]
  },
  {
   "cell_type": "code",
   "execution_count": 62,
   "metadata": {},
   "outputs": [
    {
     "data": {
      "text/plain": [
       "[2.5523021015688707e-06,\n",
       " -8.859552398539361e-05,\n",
       " -4.765856746367925e-05,\n",
       " -4.5369437028847104e-05,\n",
       " -0.00016091291528971818,\n",
       " -0.0001613955239853776,\n",
       " -0.00013240639355062422,\n",
       " -0.00015466074137669705,\n",
       " -0.0001812737848549406,\n",
       " -0.00011591982350234176,\n",
       " -0.0001452531568356119,\n",
       " -4.037982350231506e-05,\n",
       " -6.219651066917409e-05,\n",
       " -4.117982350229643e-05,\n",
       " -3.9165008687488956e-05,\n",
       " -6.551016380570984e-05,\n",
       " -0.00016582161094193248,\n",
       " -0.00010478900224625276,\n",
       " -0.00017712161094193823,\n",
       " -0.00015328649016896345]"
      ]
     },
     "execution_count": 62,
     "metadata": {},
     "output_type": "execute_result"
    }
   ],
   "source": [
    "resids_100mk"
   ]
  },
  {
   "cell_type": "code",
   "execution_count": 63,
   "metadata": {},
   "outputs": [
    {
     "data": {
      "text/plain": [
       "5.61023292386575e-05"
      ]
     },
     "execution_count": 63,
     "metadata": {},
     "output_type": "execute_result"
    }
   ],
   "source": [
    "np.std(resids_100mk)"
   ]
  },
  {
   "cell_type": "code",
   "execution_count": 56,
   "metadata": {},
   "outputs": [
    {
     "name": "stdout",
     "output_type": "stream",
     "text": [
      "0.12515134698012406\n"
     ]
    }
   ],
   "source": [
    "print(p_eval_2[14])"
   ]
  },
  {
   "cell_type": "code",
   "execution_count": 64,
   "metadata": {},
   "outputs": [
    {
     "name": "stdout",
     "output_type": "stream",
     "text": [
      "a check:  0.12511362222222222\n",
      "lin fit value:  0.12515134698012406\n",
      "a check:  0.12533171739130436\n",
      "lin fit value:  0.12515134698012406\n",
      "a check:  0.12511084782608695\n",
      "lin fit value:  0.12515134698012406\n",
      "a check:  0.1251398043478261\n",
      "lin fit value:  0.12515134698012406\n",
      "a check:  0.12489630434782607\n",
      "lin fit value:  0.12515134698012406\n",
      "a check:  0.12489560869565214\n",
      "lin fit value:  0.12515134698012406\n",
      "a check:  0.12490328888888894\n",
      "lin fit value:  0.12515134698012406\n",
      "a check:  0.12488423913043478\n",
      "lin fit value:  0.12515134698012406\n",
      "a check:  0.12494865217391304\n",
      "lin fit value:  0.12515134698012406\n",
      "a check:  0.12485047826086956\n",
      "lin fit value:  0.12515134698012406\n",
      "a check:  0.12490613043478262\n",
      "lin fit value:  0.12515134698012406\n",
      "a check:  0.12506987822878232\n",
      "lin fit value:  0.12515134698012406\n",
      "a check:  0.1250308703703704\n",
      "lin fit value:  0.12515134698012406\n",
      "a check:  0.1250585185185185\n",
      "lin fit value:  0.12515134698012406\n",
      "a check:  0.12506158518518518\n",
      "lin fit value:  0.12515134698012406\n",
      "a check:  0.1250121512915129\n",
      "lin fit value:  0.12515134698012406\n",
      "a check:  0.12504121739130436\n",
      "lin fit value:  0.12515134698012406\n",
      "a check:  0.12509740000000003\n",
      "lin fit value:  0.12515134698012406\n",
      "a check:  0.12503669565217396\n",
      "lin fit value:  0.12515134698012406\n",
      "a check:  0.12504965217391306\n",
      "lin fit value:  0.12515134698012406\n"
     ]
    }
   ],
   "source": [
    "resids_125mk = []\n",
    "for idx, ser in enumerate(roxes_1):\n",
    "    print('a check: ', all_verify_data[0][ser]['temp_avg'][15])\n",
    "    print('lin fit value: ', p_eval_2[14])\n",
    "    resids = all_verify_data[0][ser]['temp_avg'][20]-p_eval_2[14]\n",
    "    resids_125mk.append(resids)\n",
    "    \n",
    "for idx, ser in enumerate(roxes_2):\n",
    "    print('a check: ', all_verify_data[1][ser]['temp_avg'][15])\n",
    "    print('lin fit value: ', p_eval_2[14])\n",
    "    resids = all_verify_data[1][ser]['temp_avg'][20]-p_eval_2[14]\n",
    "    resids_125mk.append(resids)\n",
    "    \n",
    "for idx, ser in enumerate(roxes_3):\n",
    "    print('a check: ', all_verify_data[2][ser]['temp_avg'][15])\n",
    "    print('lin fit value: ', p_eval_2[14])\n",
    "    resids = all_verify_data[2][ser]['temp_avg'][20]-p_eval_2[14]\n",
    "    resids_125mk.append(resids)\n",
    "    \n",
    "#for idx, ser in enumerate(roxes_4):\n",
    "#    print('a check: ', all_verify_data[3][ser]['temp_avg'][25])\n",
    "#    print('lin fit value: ', p_eval_2[4])\n",
    "#    resids = all_verify_data[3][ser]['temp_avg'][25]-p_eval_2[4]\n",
    "#    resids_75mk.append(resids)\n",
    "    \n",
    "for idx, ser in enumerate(roxes_5):\n",
    "    print('a check: ', all_verify_data[4][ser]['temp_avg'][16])\n",
    "    print('lin fit value: ', p_eval_2[14])\n",
    "    resids = all_verify_data[4][ser]['temp_avg'][21]-p_eval_2[14]\n",
    "    resids_125mk.append(resids)"
   ]
  },
  {
   "cell_type": "code",
   "execution_count": 65,
   "metadata": {},
   "outputs": [
    {
     "data": {
      "text/plain": [
       "[-0.02492209263229797,\n",
       " -0.025013240458384933,\n",
       " -0.02497230350186322,\n",
       " -0.024970014371428387,\n",
       " -0.025085557849689258,\n",
       " -0.025086040458384917,\n",
       " -0.025057051327950164,\n",
       " -0.025079305675776237,\n",
       " -0.02510591871925448,\n",
       " -0.02504056475790188,\n",
       " -0.02506989809123515,\n",
       " -0.024965024757901855,\n",
       " -0.024986841445068714,\n",
       " -0.024965824757901836,\n",
       " -0.02496380994308703,\n",
       " -0.02499015509820525,\n",
       " -0.025090466545341472,\n",
       " -0.025029433936645792,\n",
       " -0.025101766545341478,\n",
       " -0.025077931424568503]"
      ]
     },
     "execution_count": 65,
     "metadata": {},
     "output_type": "execute_result"
    }
   ],
   "source": [
    "resids_125mk"
   ]
  },
  {
   "cell_type": "code",
   "execution_count": 66,
   "metadata": {},
   "outputs": [
    {
     "data": {
      "text/plain": [
       "5.610232923865751e-05"
      ]
     },
     "execution_count": 66,
     "metadata": {},
     "output_type": "execute_result"
    }
   ],
   "source": [
    "np.std(resids_125mk)"
   ]
  },
  {
   "cell_type": "code",
   "execution_count": 67,
   "metadata": {},
   "outputs": [
    {
     "name": "stdout",
     "output_type": "stream",
     "text": [
      "0.15007599191452362\n"
     ]
    }
   ],
   "source": [
    "print(p_eval_2[19])"
   ]
  },
  {
   "cell_type": "code",
   "execution_count": 68,
   "metadata": {},
   "outputs": [
    {
     "name": "stdout",
     "output_type": "stream",
     "text": [
      "a check:  0.15010060869565214\n",
      "lin fit value:  0.15007599191452362\n",
      "a check:  0.15019858695652172\n",
      "lin fit value:  0.15007599191452362\n",
      "a check:  0.15012534782608697\n",
      "lin fit value:  0.15007599191452362\n",
      "a check:  0.1501411086956522\n",
      "lin fit value:  0.15007599191452362\n",
      "a check:  0.14999860869565218\n",
      "lin fit value:  0.15007599191452362\n",
      "a check:  0.14995267391304348\n",
      "lin fit value:  0.15007599191452362\n",
      "a check:  0.14993315555555556\n",
      "lin fit value:  0.15007599191452362\n",
      "a check:  0.14998271739130434\n",
      "lin fit value:  0.15007599191452362\n",
      "a check:  0.14993877777777778\n",
      "lin fit value:  0.15007599191452362\n",
      "a check:  0.15010321739130433\n",
      "lin fit value:  0.15007599191452362\n",
      "a check:  0.1499746956521739\n",
      "lin fit value:  0.15007599191452362\n",
      "a check:  0.14999191481481483\n",
      "lin fit value:  0.15007599191452362\n",
      "a check:  0.14999725185185186\n",
      "lin fit value:  0.15007599191452362\n",
      "a check:  0.14999316236162363\n",
      "lin fit value:  0.15007599191452362\n",
      "a check:  0.14999719259259262\n",
      "lin fit value:  0.15007599191452362\n",
      "a check:  0.15000224074074073\n",
      "lin fit value:  0.15007599191452362\n",
      "a check:  0.1500303111111111\n",
      "lin fit value:  0.15007599191452362\n",
      "a check:  0.15007436956521739\n",
      "lin fit value:  0.15007599191452362\n",
      "a check:  0.15000158695652174\n",
      "lin fit value:  0.15007599191452362\n",
      "a check:  0.1500358913043478\n",
      "lin fit value:  0.15007599191452362\n"
     ]
    }
   ],
   "source": [
    "resids_150mk = []\n",
    "for idx, ser in enumerate(roxes_1):\n",
    "    print('a check: ', all_verify_data[0][ser]['temp_avg'][10])\n",
    "    print('lin fit value: ', p_eval_2[19])\n",
    "    resids = all_verify_data[0][ser]['temp_avg'][20]-p_eval_2[19]\n",
    "    resids_150mk.append(resids)\n",
    "    \n",
    "for idx, ser in enumerate(roxes_2):\n",
    "    print('a check: ', all_verify_data[1][ser]['temp_avg'][10])\n",
    "    print('lin fit value: ', p_eval_2[19])\n",
    "    resids = all_verify_data[1][ser]['temp_avg'][20]-p_eval_2[19]\n",
    "    resids_150mk.append(resids)\n",
    "    \n",
    "for idx, ser in enumerate(roxes_3):\n",
    "    print('a check: ', all_verify_data[2][ser]['temp_avg'][10])\n",
    "    print('lin fit value: ', p_eval_2[19])\n",
    "    resids = all_verify_data[2][ser]['temp_avg'][20]-p_eval_2[19]\n",
    "    resids_150mk.append(resids)\n",
    "    \n",
    "#for idx, ser in enumerate(roxes_4):\n",
    "#    print('a check: ', all_verify_data[3][ser]['temp_avg'][25])\n",
    "#    print('lin fit value: ', p_eval_2[4])\n",
    "#    resids = all_verify_data[3][ser]['temp_avg'][25]-p_eval_2[4]\n",
    "#    resids_75mk.append(resids)\n",
    "    \n",
    "for idx, ser in enumerate(roxes_5):\n",
    "    print('a check: ', all_verify_data[4][ser]['temp_avg'][11])\n",
    "    print('lin fit value: ', p_eval_2[19])\n",
    "    resids = all_verify_data[4][ser]['temp_avg'][21]-p_eval_2[19]\n",
    "    resids_150mk.append(resids)"
   ]
  },
  {
   "cell_type": "code",
   "execution_count": 70,
   "metadata": {},
   "outputs": [
    {
     "name": "stdout",
     "output_type": "stream",
     "text": [
      "[-0.049846737566697524, -0.04993788539278449, -0.04989694843626277, -0.04989465930582794, -0.05001020278408881, -0.05001068539278447, -0.04998169626234972, -0.05000395061017579, -0.050030563653654034, -0.049965209692301435, -0.049994543025634705, -0.04988966969230141, -0.04991148637946827, -0.04989046969230139, -0.04988845487748658, -0.0499148000326048, -0.050015111479741026, -0.049954078871045346, -0.05002641147974103, -0.05000257635896806]\n",
      "5.610232923865751e-05\n"
     ]
    }
   ],
   "source": [
    "print(resids_150mk)\n",
    "print(np.std(resids_150mk))"
   ]
  },
  {
   "cell_type": "code",
   "execution_count": 71,
   "metadata": {},
   "outputs": [
    {
     "name": "stdout",
     "output_type": "stream",
     "text": [
      "0.17500063684892317\n"
     ]
    }
   ],
   "source": [
    "print(p_eval_2[24])"
   ]
  },
  {
   "cell_type": "code",
   "execution_count": 72,
   "metadata": {},
   "outputs": [
    {
     "name": "stdout",
     "output_type": "stream",
     "text": [
      "a check:  0.1750874888888889\n",
      "lin fit value:  0.17500063684892317\n",
      "a check:  0.1752173043478261\n",
      "lin fit value:  0.17500063684892317\n",
      "a check:  0.17508828260869566\n",
      "lin fit value:  0.17500063684892317\n",
      "a check:  0.17516360869565215\n",
      "lin fit value:  0.17500063684892317\n",
      "a check:  0.17506906521739127\n",
      "lin fit value:  0.17500063684892317\n",
      "a check:  0.17500997826086956\n",
      "lin fit value:  0.17500063684892317\n",
      "a check:  0.17502821739130434\n",
      "lin fit value:  0.17500063684892317\n",
      "a check:  0.17501552173913046\n",
      "lin fit value:  0.17500063684892317\n",
      "a check:  0.17501802173913045\n",
      "lin fit value:  0.17500063684892317\n",
      "a check:  0.1751548913043478\n",
      "lin fit value:  0.17500063684892317\n",
      "a check:  0.17507171739130437\n",
      "lin fit value:  0.17500063684892317\n",
      "a check:  0.1750047888888889\n",
      "lin fit value:  0.17500063684892317\n",
      "a check:  0.17500477407407408\n",
      "lin fit value:  0.17500063684892317\n",
      "a check:  0.17502260885608853\n",
      "lin fit value:  0.17500063684892317\n",
      "a check:  0.17503439852398525\n",
      "lin fit value:  0.17500063684892317\n",
      "a check:  0.1750148703703704\n",
      "lin fit value:  0.17500063684892317\n",
      "a check:  0.17500604347826085\n",
      "lin fit value:  0.17500063684892317\n",
      "a check:  0.1750056304347826\n",
      "lin fit value:  0.17500063684892317\n",
      "a check:  0.17495867391304348\n",
      "lin fit value:  0.17500063684892317\n",
      "a check:  0.17506833333333335\n",
      "lin fit value:  0.17500063684892317\n"
     ]
    }
   ],
   "source": [
    "resids_175mk = []\n",
    "for idx, ser in enumerate(roxes_1):\n",
    "    print('a check: ', all_verify_data[0][ser]['temp_avg'][5])\n",
    "    print('lin fit value: ', p_eval_2[24])\n",
    "    resids = all_verify_data[0][ser]['temp_avg'][20]-p_eval_2[24]\n",
    "    resids_175mk.append(resids)\n",
    "    \n",
    "for idx, ser in enumerate(roxes_2):\n",
    "    print('a check: ', all_verify_data[1][ser]['temp_avg'][5])\n",
    "    print('lin fit value: ', p_eval_2[24])\n",
    "    resids = all_verify_data[1][ser]['temp_avg'][20]-p_eval_2[24]\n",
    "    resids_175mk.append(resids)\n",
    "    \n",
    "for idx, ser in enumerate(roxes_3):\n",
    "    print('a check: ', all_verify_data[2][ser]['temp_avg'][5])\n",
    "    print('lin fit value: ', p_eval_2[24])\n",
    "    resids = all_verify_data[2][ser]['temp_avg'][20]-p_eval_2[24]\n",
    "    resids_175mk.append(resids)\n",
    "    \n",
    "#for idx, ser in enumerate(roxes_4):\n",
    "#    print('a check: ', all_verify_data[3][ser]['temp_avg'][25])\n",
    "#    print('lin fit value: ', p_eval_2[4])\n",
    "#    resids = all_verify_data[3][ser]['temp_avg'][25]-p_eval_2[4]\n",
    "#    resids_75mk.append(resids)\n",
    "    \n",
    "for idx, ser in enumerate(roxes_5):\n",
    "    print('a check: ', all_verify_data[4][ser]['temp_avg'][6])\n",
    "    print('lin fit value: ', p_eval_2[24])\n",
    "    resids = all_verify_data[4][ser]['temp_avg'][21]-p_eval_2[24]\n",
    "    resids_175mk.append(resids)"
   ]
  },
  {
   "cell_type": "code",
   "execution_count": 73,
   "metadata": {},
   "outputs": [
    {
     "name": "stdout",
     "output_type": "stream",
     "text": [
      "[-0.07477138250109708, -0.07486253032718404, -0.07482159337066233, -0.0748193042402275, -0.07493484771848836, -0.07493533032718402, -0.07490634119674927, -0.07492859554457534, -0.07495520858805359, -0.07488985462670099, -0.07491918796003426, -0.07481431462670096, -0.07483613131386782, -0.07481511462670094, -0.07481309981188614, -0.07483944496700436, -0.07493975641414058, -0.0748787238054449, -0.07495105641414058, -0.07492722129336761]\n",
      "5.6102329238657495e-05\n"
     ]
    }
   ],
   "source": [
    "print(resids_175mk)\n",
    "print(np.std(resids_175mk))"
   ]
  },
  {
   "cell_type": "code",
   "execution_count": 76,
   "metadata": {},
   "outputs": [
    {
     "name": "stdout",
     "output_type": "stream",
     "text": [
      "0.1999252817833227\n"
     ]
    }
   ],
   "source": [
    "print(p_eval_2[29])"
   ]
  },
  {
   "cell_type": "code",
   "execution_count": 78,
   "metadata": {},
   "outputs": [
    {
     "name": "stdout",
     "output_type": "stream",
     "text": [
      "a check:  0.20009560869565216\n",
      "lin fit value:  0.1999252817833227\n",
      "a check:  0.2001262826086957\n",
      "lin fit value:  0.1999252817833227\n",
      "a check:  0.20003504444444442\n",
      "lin fit value:  0.1999252817833227\n",
      "a check:  0.2001120238095238\n",
      "lin fit value:  0.1999252817833227\n",
      "a check:  0.20011130434782612\n",
      "lin fit value:  0.1999252817833227\n",
      "a check:  0.20004404347826088\n",
      "lin fit value:  0.1999252817833227\n",
      "a check:  0.20014542222222223\n",
      "lin fit value:  0.1999252817833227\n",
      "a check:  0.20013297826086954\n",
      "lin fit value:  0.1999252817833227\n",
      "a check:  0.20014371739130432\n",
      "lin fit value:  0.1999252817833227\n",
      "a check:  0.20022934782608695\n",
      "lin fit value:  0.1999252817833227\n",
      "a check:  0.1999189130434782\n",
      "lin fit value:  0.1999252817833227\n",
      "a check:  0.20001843542435424\n",
      "lin fit value:  0.1999252817833227\n",
      "a check:  0.20002316296296296\n",
      "lin fit value:  0.1999252817833227\n",
      "a check:  0.19998857564575648\n",
      "lin fit value:  0.1999252817833227\n",
      "a check:  0.2000292\n",
      "lin fit value:  0.1999252817833227\n",
      "a check:  0.2000137148148148\n",
      "lin fit value:  0.1999252817833227\n",
      "a check:  0.2000478260869565\n",
      "lin fit value:  0.1999252817833227\n",
      "a check:  0.20002251111111116\n",
      "lin fit value:  0.1999252817833227\n",
      "a check:  0.20001530434782608\n",
      "lin fit value:  0.1999252817833227\n",
      "a check:  0.20007477777777774\n",
      "lin fit value:  0.1999252817833227\n"
     ]
    }
   ],
   "source": [
    "resids_200mk = []\n",
    "for idx, ser in enumerate(roxes_1):\n",
    "    print('a check: ', all_verify_data[0][ser]['temp_avg'][0])\n",
    "    print('lin fit value: ', p_eval_2[29])\n",
    "    resids = all_verify_data[0][ser]['temp_avg'][20]-p_eval_2[29]\n",
    "    resids_200mk.append(resids)\n",
    "    \n",
    "for idx, ser in enumerate(roxes_2):\n",
    "    print('a check: ', all_verify_data[1][ser]['temp_avg'][0])\n",
    "    print('lin fit value: ', p_eval_2[29])\n",
    "    resids = all_verify_data[1][ser]['temp_avg'][20]-p_eval_2[29]\n",
    "    resids_200mk.append(resids)\n",
    "    \n",
    "for idx, ser in enumerate(roxes_3):\n",
    "    print('a check: ', all_verify_data[2][ser]['temp_avg'][0])\n",
    "    print('lin fit value: ', p_eval_2[29])\n",
    "    resids = all_verify_data[2][ser]['temp_avg'][20]-p_eval_2[29]\n",
    "    resids_200mk.append(resids)\n",
    "    \n",
    "#for idx, ser in enumerate(roxes_4):\n",
    "#    print('a check: ', all_verify_data[3][ser]['temp_avg'][25])\n",
    "#    print('lin fit value: ', p_eval_2[4])\n",
    "#    resids = all_verify_data[3][ser]['temp_avg'][25]-p_eval_2[4]\n",
    "#    resids_75mk.append(resids)\n",
    "    \n",
    "for idx, ser in enumerate(roxes_5):\n",
    "    print('a check: ', all_verify_data[4][ser]['temp_avg'][1])\n",
    "    print('lin fit value: ', p_eval_2[29])\n",
    "    resids = all_verify_data[4][ser]['temp_avg'][21]-p_eval_2[29]\n",
    "    resids_200mk.append(resids)"
   ]
  },
  {
   "cell_type": "code",
   "execution_count": 79,
   "metadata": {},
   "outputs": [
    {
     "name": "stdout",
     "output_type": "stream",
     "text": [
      "[-0.0996960274354966, -0.09978717526158357, -0.09974623830506185, -0.09974394917462702, -0.09985949265288789, -0.09985997526158355, -0.0998309861311488, -0.09985324047897487, -0.09987985352245311, -0.09981449956110051, -0.09984383289443378, -0.09973895956110049, -0.09976077624826735, -0.09973975956110047, -0.09973774474628566, -0.09976408990140388, -0.0998644013485401, -0.09980336873984443, -0.09987570134854011, -0.09985186622776714]\n",
      "5.61023292386575e-05\n"
     ]
    }
   ],
   "source": [
    "print(resids_200mk)\n",
    "print(np.std(resids_200mk))"
   ]
  },
  {
   "cell_type": "code",
   "execution_count": null,
   "metadata": {},
   "outputs": [],
   "source": [
    "### i think i can plot the standard deviation of each set of residuals using the linear fit though??"
   ]
  },
  {
   "cell_type": "code",
   "execution_count": null,
   "metadata": {},
   "outputs": [],
   "source": [
    "### and then compare with the hardcoded way and see if the answers are the same?"
   ]
  },
  {
   "cell_type": "code",
   "execution_count": null,
   "metadata": {},
   "outputs": [],
   "source": [
    "### also have an explanation for why some things are hard coded?"
   ]
  },
  {
   "cell_type": "markdown",
   "metadata": {},
   "source": [
    "### Problems"
   ]
  },
  {
   "cell_type": "code",
   "execution_count": 86,
   "metadata": {},
   "outputs": [
    {
     "data": {
      "text/plain": [
       "[]"
      ]
     },
     "execution_count": 86,
     "metadata": {},
     "output_type": "execute_result"
    },
    {
     "data": {
      "image/png": "[encoded data removed]",
      "text/plain": [
       "<Figure size 720x576 with 2 Axes>"
      ]
     },
     "metadata": {
      "needs_background": "light"
     },
     "output_type": "display_data"
    }
   ],
   "source": [
    "fig, axs = plt.subplots(2)\n",
    "fig.suptitle(\"Linear Fit of Calibrated SO Roxes (Using Verification Run Data)\")\n",
    "axs[0].plot(np.linspace(0.055, 0.2, len(lsrox_trial2)), p_eval, color = 'r', label = 'linear fit')\n",
    "axs[0].plot(lsrox_trial2, roxestrial_2, '.')\n",
    "axs[1].plot(lsrox_trial2, (p_eval-roxestrial_2), '.')\n",
    "axs[1].plot(ylabel = 'residuals')\n"
   ]
  },
  {
   "cell_type": "markdown",
   "metadata": {},
   "source": [
    "peval should have min and max of lsroxtemps btw in its linspace\n",
    "\n",
    "\n",
    "and roxestrial2 shows a couple of temperatures below 55 mk and i'm not sure they should be there so that'll throw those things off too"
   ]
  },
  {
   "cell_type": "code",
   "execution_count": null,
   "metadata": {},
   "outputs": [],
   "source": []
  }
 ],
 "metadata": {
  "kernelspec": {
   "display_name": "Python 3",
   "language": "python",
   "name": "python3"
  },
  "language_info": {
   "codemirror_mode": {
    "name": "ipython",
    "version": 3
   },
   "file_extension": ".py",
   "mimetype": "text/x-python",
   "name": "python",
   "nbconvert_exporter": "python",
   "pygments_lexer": "ipython3",
   "version": "3.6.9"
  }
 },
 "nbformat": 4,
 "nbformat_minor": 4
}
